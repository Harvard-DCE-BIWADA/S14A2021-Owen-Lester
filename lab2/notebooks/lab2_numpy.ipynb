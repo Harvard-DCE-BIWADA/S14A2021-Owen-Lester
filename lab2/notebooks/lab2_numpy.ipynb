{
 "cells": [
  {
   "cell_type": "markdown",
   "metadata": {
    "collapsed": true,
    "pycharm": {
     "name": "#%% md\n"
    }
   },
   "source": [
    "## S14a: Lab 2 - Numpy\n",
    "\n",
    "Below is quick quickstart with numpy, designed to give new users a sense of how the library works. There is so much more functionality, and developers have provided an incredible [tutorial](https://numpy.org/devdocs/user/quickstart.html) for anyone ready for a deeper dive.\n",
    "\n",
    "Also for need X need guidance, take a look at the [reference](https://numpy.org/doc/1.18/reference/index.html)."
   ]
  },
  {
   "cell_type": "markdown",
   "metadata": {},
   "source": [
    "### The basics: 1D and 2D arrays"
   ]
  },
  {
   "cell_type": "code",
   "execution_count": 5,
   "metadata": {},
   "outputs": [],
   "source": [
    "# Import numpy\n",
    "\n",
    "import numpy as np"
   ]
  },
  {
   "cell_type": "code",
   "execution_count": 6,
   "metadata": {},
   "outputs": [
    {
     "data": {
      "text/plain": [
       "array([1, 2, 3])"
      ]
     },
     "execution_count": 6,
     "metadata": {},
     "output_type": "execute_result"
    }
   ],
   "source": [
    "# Build a one dimensional (1D) numpy array directly\n",
    "\n",
    "numpy_1d = np.array([1, 2, 3])\n",
    "numpy_1d"
   ]
  },
  {
   "cell_type": "code",
   "execution_count": 7,
   "metadata": {},
   "outputs": [
    {
     "data": {
      "text/plain": [
       "1"
      ]
     },
     "execution_count": 7,
     "metadata": {},
     "output_type": "execute_result"
    }
   ],
   "source": [
    "# Take a look at 1D dimensionality\n",
    "\n",
    "np.ndim(numpy_1d)"
   ]
  },
  {
   "cell_type": "code",
   "execution_count": 8,
   "metadata": {},
   "outputs": [
    {
     "data": {
      "text/plain": [
       "(3,)"
      ]
     },
     "execution_count": 8,
     "metadata": {},
     "output_type": "execute_result"
    }
   ],
   "source": [
    "# Take a look at 1D shape - (length, \n",
    "\n",
    "np.shape(numpy_1d)"
   ]
  },
  {
   "cell_type": "code",
   "execution_count": 9,
   "metadata": {},
   "outputs": [
    {
     "data": {
      "text/plain": [
       "1"
      ]
     },
     "execution_count": 9,
     "metadata": {},
     "output_type": "execute_result"
    }
   ],
   "source": [
    "# Grab values at certain positions in 1D\n",
    "\n",
    "numpy_1d[0]"
   ]
  },
  {
   "cell_type": "code",
   "execution_count": 10,
   "metadata": {},
   "outputs": [
    {
     "data": {
      "text/plain": [
       "array([[4, 5, 6],\n",
       "       [7, 8, 9]])"
      ]
     },
     "execution_count": 10,
     "metadata": {},
     "output_type": "execute_result"
    }
   ],
   "source": [
    "# Build a two dimensional (2D) numpy array - \"array of arrays\"\n",
    "\n",
    "numpy_2d = np.array([[4, 5, 6], [7, 8, 9]])\n",
    "numpy_2d"
   ]
  },
  {
   "cell_type": "code",
   "execution_count": 11,
   "metadata": {},
   "outputs": [
    {
     "data": {
      "text/plain": [
       "2"
      ]
     },
     "execution_count": 11,
     "metadata": {},
     "output_type": "execute_result"
    }
   ],
   "source": [
    "# Take a look at 2D dimensionality\n",
    "\n",
    "np.ndim(numpy_2d)"
   ]
  },
  {
   "cell_type": "code",
   "execution_count": 12,
   "metadata": {},
   "outputs": [
    {
     "data": {
      "text/plain": [
       "(2, 3)"
      ]
     },
     "execution_count": 12,
     "metadata": {},
     "output_type": "execute_result"
    }
   ],
   "source": [
    "# Take a look at a 2D shape - (#row, #col)\n",
    "\n",
    "np.shape(numpy_2d)"
   ]
  },
  {
   "cell_type": "code",
   "execution_count": 14,
   "metadata": {},
   "outputs": [
    {
     "data": {
      "text/plain": [
       "5"
      ]
     },
     "execution_count": 14,
     "metadata": {},
     "output_type": "execute_result"
    }
   ],
   "source": [
    "# !!!YOUR TURN!!!\n",
    "\n",
    "# Grab a value at row 1, column 2 at certain positions in 2D\n",
    "numpy_2d[0, 1]"
   ]
  },
  {
   "cell_type": "code",
   "execution_count": 15,
   "metadata": {},
   "outputs": [
    {
     "data": {
      "text/plain": [
       "array([8, 9])"
      ]
     },
     "execution_count": 15,
     "metadata": {},
     "output_type": "execute_result"
    }
   ],
   "source": [
    "# Slice out portions of the array\n",
    "\n",
    "numpy_2d[1, 1:3]"
   ]
  },
  {
   "cell_type": "code",
   "execution_count": 16,
   "metadata": {},
   "outputs": [
    {
     "data": {
      "text/plain": [
       "array([6, 7, 8, 9])"
      ]
     },
     "execution_count": 16,
     "metadata": {},
     "output_type": "execute_result"
    }
   ],
   "source": [
    "# Grab with condition\n",
    "numpy_2d[numpy_2d >= 6]"
   ]
  },
  {
   "cell_type": "code",
   "execution_count": 17,
   "metadata": {
    "pycharm": {
     "name": "#%%\n"
    }
   },
   "outputs": [
    {
     "data": {
      "text/plain": [
       "array([[4, 5],\n",
       "       [6, 7],\n",
       "       [8, 9]])"
      ]
     },
     "execution_count": 17,
     "metadata": {},
     "output_type": "execute_result"
    }
   ],
   "source": [
    "# Reshape your 3d array, reversing rows and cols\n",
    "\n",
    "numpy_2d.reshape(3, 2)"
   ]
  },
  {
   "cell_type": "code",
   "execution_count": 33,
   "metadata": {},
   "outputs": [
    {
     "data": {
      "text/plain": [
       "array([[4, 7],\n",
       "       [5, 8],\n",
       "       [6, 9]])"
      ]
     },
     "execution_count": 33,
     "metadata": {},
     "output_type": "execute_result"
    }
   ],
   "source": [
    "# Or try to transpose\n",
    "\n",
    "np.transpose(numpy_2d)"
   ]
  },
  {
   "cell_type": "markdown",
   "metadata": {
    "pycharm": {
     "name": "#%% md\n"
    }
   },
   "source": [
    "### Building / transforming arrays - selections"
   ]
  },
  {
   "cell_type": "code",
   "execution_count": 19,
   "metadata": {},
   "outputs": [
    {
     "data": {
      "text/plain": [
       "array([3, 6, 9])"
      ]
     },
     "execution_count": 19,
     "metadata": {},
     "output_type": "execute_result"
    }
   ],
   "source": [
    "# Build a numpy array using a range - (start at, up to, step size)\n",
    "\n",
    "np.arange(3, 10, 3)"
   ]
  },
  {
   "cell_type": "code",
   "execution_count": 20,
   "metadata": {},
   "outputs": [
    {
     "data": {
      "text/plain": [
       "array([ 3.,  6.,  9., 12., 15.])"
      ]
     },
     "execution_count": 20,
     "metadata": {},
     "output_type": "execute_result"
    }
   ],
   "source": [
    "# Build a numpy array using evenly spaced points in a range - (start at, up to, breakpoints)\n",
    "\n",
    "np.linspace(3, 15, 5)"
   ]
  },
  {
   "cell_type": "code",
   "execution_count": 21,
   "metadata": {},
   "outputs": [
    {
     "data": {
      "text/plain": [
       "array([0., 0., 0.])"
      ]
     },
     "execution_count": 21,
     "metadata": {},
     "output_type": "execute_result"
    }
   ],
   "source": [
    "# Create 1D array of 0s\n",
    "\n",
    "np.zeros(3)"
   ]
  },
  {
   "cell_type": "code",
   "execution_count": 22,
   "metadata": {},
   "outputs": [
    {
     "data": {
      "text/plain": [
       "array([[1., 1., 1.],\n",
       "       [1., 1., 1.],\n",
       "       [1., 1., 1.]])"
      ]
     },
     "execution_count": 22,
     "metadata": {},
     "output_type": "execute_result"
    }
   ],
   "source": [
    "# Create 2D array of 1s\n",
    "\n",
    "np.ones((3, 3))"
   ]
  },
  {
   "cell_type": "code",
   "execution_count": 40,
   "metadata": {
    "pycharm": {
     "name": "#%%\n"
    }
   },
   "outputs": [],
   "source": [
    "# !!!YOUR TURN!!!\n",
    "\n",
    "# Create 2D array (3, 3) of random numbers\n",
    "# Docs: https://numpy.org/doc/stable/reference/random/index.html?highlight=random#module-numpy.random\n",
    "randC = np.random.random((3,3))"
   ]
  },
  {
   "cell_type": "code",
   "execution_count": 41,
   "metadata": {},
   "outputs": [
    {
     "data": {
      "text/plain": [
       "[0.07180298354910608, 0.957952386342698]"
      ]
     },
     "execution_count": 41,
     "metadata": {},
     "output_type": "execute_result"
    }
   ],
   "source": [
    "# Get min and max\n",
    "[randC.min(), randC.max()]"
   ]
  },
  {
   "cell_type": "markdown",
   "metadata": {
    "pycharm": {
     "name": "#%% md\n"
    }
   },
   "source": [
    "### Math, [ref.](https://numpy.org/doc/1.18/reference/routines.math.html)"
   ]
  },
  {
   "cell_type": "code",
   "execution_count": 42,
   "metadata": {},
   "outputs": [
    {
     "name": "stdout",
     "output_type": "stream",
     "text": [
      "+. [[ 6.  8.]\n",
      " [10. 12.]]\n",
      "-. [[-4. -4.]\n",
      " [-4. -4.]]\n"
     ]
    }
   ],
   "source": [
    "# Addition / subtraction (you can define type)\n",
    "\n",
    "npx = np.array([[1, 2], [3, 4]], dtype=np.float64)\n",
    "npy = np.array([[5, 6], [7, 8]], dtype=np.float64)\n",
    "\n",
    "print('+.', np.add(npx, npy))\n",
    "print('-.', np.subtract(npx, npy))"
   ]
  },
  {
   "cell_type": "code",
   "execution_count": 43,
   "metadata": {},
   "outputs": [
    {
     "name": "stdout",
     "output_type": "stream",
     "text": [
      "Multiply:\n",
      " [[ 5. 12.]\n",
      " [21. 32.]]\n",
      "Divide:\n",
      " [[0.2        0.33333333]\n",
      " [0.42857143 0.5       ]]\n"
     ]
    }
   ],
   "source": [
    "# Multiplication / divide\n",
    "\n",
    "print('Multiply:\\n', np.multiply(npx, npy))\n",
    "print('Divide:\\n', np.divide(npx, npy))\n"
   ]
  },
  {
   "cell_type": "code",
   "execution_count": 44,
   "metadata": {
    "pycharm": {
     "name": "#%%\n"
    }
   },
   "outputs": [
    {
     "name": "stdout",
     "output_type": "stream",
     "text": [
      "[[1.         1.41421356]\n",
      " [1.73205081 2.        ]]\n"
     ]
    }
   ],
   "source": [
    "# And other nice Math functions\n",
    "\n",
    "print(np.sqrt(npx))"
   ]
  },
  {
   "cell_type": "code",
   "execution_count": 50,
   "metadata": {
    "pycharm": {
     "name": "#%%\n"
    }
   },
   "outputs": [
    {
     "name": "stdout",
     "output_type": "stream",
     "text": [
      "col [4. 6.]\n",
      "row [3. 7.]\n"
     ]
    }
   ],
   "source": [
    "# !!!YOUR TURN!!!\n",
    "\n",
    "# Look at the documentation for the `sum` method:\n",
    "# https://numpy.org/doc/stable/reference/generated/numpy.sum.html\n",
    "# Pay attention to the second argument, the axis\n",
    "# try to sum the npx array vertically and horizontally\n",
    "print(\"col\", np.sum(npx, axis= 0))\n",
    "print(\"row\", np.sum(npx, axis = 1))"
   ]
  },
  {
   "cell_type": "code",
   "execution_count": 29,
   "metadata": {
    "pycharm": {
     "name": "#%%\n"
    }
   },
   "outputs": [
    {
     "name": "stdout",
     "output_type": "stream",
     "text": [
      "[[ 2  2  4]\n",
      " [ 5  5  7]\n",
      " [ 8  8 10]\n",
      " [11 11 13]]\n"
     ]
    }
   ],
   "source": [
    "# Broadcasting - when performing mathematical operations, shape matters\n",
    "\n",
    "x = np.array([[1, 2, 3], [4, 5, 6], [7, 8, 9], [10, 11, 12]])\n",
    "v = np.array([1, 0, 1])\n",
    "y = np.empty_like(x)\n",
    "\n",
    "for i in range(len(x)):\n",
    "    y[i, :] = x[i, :] + v\n",
    "\n",
    "print(y)"
   ]
  },
  {
   "cell_type": "code",
   "execution_count": 30,
   "metadata": {},
   "outputs": [
    {
     "name": "stdout",
     "output_type": "stream",
     "text": [
      "Multiplication of matrix and vector:\n",
      "Check shapes: (3, 3) X (3,)\n",
      "\n",
      "Scalar multiplication (3, 3):\n",
      "[[ 10  22  36]\n",
      " [ 40  55  72]\n",
      " [ 70  88 108]] \n",
      "\n",
      "Matrix multiplication (3,):\n",
      "[ 68 167 266]\n"
     ]
    }
   ],
   "source": [
    "# Check out this multiplication example\n",
    "\n",
    "# First let's multiply a (4, 3) array by a (3, 1) vector - there are two ways to do this\n",
    "print('Multiplication of matrix and vector:')\n",
    "matrix = np.array([[1, 2, 3], [4, 5, 6], [7, 8, 9]])\n",
    "vector = np.array([10, 11, 12])\n",
    "print(f'Check shapes: {np.shape(matrix)} X {np.shape(vector)}\\n', )\n",
    "\n",
    "prod1 = np.multiply(matrix, vector)\n",
    "print(f'Scalar multiplication {np.shape(prod1)}:')\n",
    "print(prod1, '\\n')\n",
    "prod2 = np.matmul(matrix, vector)\n",
    "print(f'Matrix multiplication {np.shape(prod2)}:')\n",
    "print(prod2)"
   ]
  },
  {
   "cell_type": "code",
   "execution_count": 31,
   "metadata": {
    "pycharm": {
     "name": "#%%\n"
    }
   },
   "outputs": [
    {
     "name": "stdout",
     "output_type": "stream",
     "text": [
      "[[ 2  2  4]\n",
      " [ 5  5  7]\n",
      " [ 8  8 10]\n",
      " [11 11 13]]\n",
      "[[-9999 -9999 -9999]\n",
      " [    5     5     7]\n",
      " [    8     8    10]\n",
      " [   11    11    13]]\n"
     ]
    }
   ],
   "source": [
    "# Copying - if you need your changes not to effect the original array, make a copy\n",
    "y_copy = y.copy()\n",
    "y_copy[0][0:] = -9999\n",
    "print(y)\n",
    "print(y_copy)"
   ]
  },
  {
   "cell_type": "code",
   "execution_count": 29,
   "metadata": {},
   "outputs": [],
   "source": [
    "# Try to discover a numpy method not mentioned here, and share what you find."
   ]
  },
  {
   "cell_type": "code",
   "execution_count": null,
   "metadata": {},
   "outputs": [],
   "source": []
  }
 ],
 "metadata": {
  "kernelspec": {
   "display_name": "Python 3",
   "language": "python",
   "name": "python3"
  },
  "language_info": {
   "codemirror_mode": {
    "name": "ipython",
    "version": 3
   },
   "file_extension": ".py",
   "mimetype": "text/x-python",
   "name": "python",
   "nbconvert_exporter": "python",
   "pygments_lexer": "ipython3",
   "version": "3.8.10"
  }
 },
 "nbformat": 4,
 "nbformat_minor": 1
}
